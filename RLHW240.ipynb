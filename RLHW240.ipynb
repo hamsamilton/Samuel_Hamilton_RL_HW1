{
 "cells": [
  {
   "cell_type": "markdown",
   "metadata": {},
   "source": [
    "# HW 1 Samuel Hamilton"
   ]
  },
  {
   "cell_type": "markdown",
   "metadata": {},
   "source": [
    "Question 1"
   ]
  },
  {
   "cell_type": "code",
   "execution_count": 2,
   "metadata": {},
   "outputs": [],
   "source": [
    "import numpy as np"
   ]
  },
  {
   "cell_type": "code",
   "execution_count": 4,
   "metadata": {},
   "outputs": [],
   "source": [
    "class Trainenv:\n",
    "    \"\"\"Environment for shuttle problem\n",
    "    \"\"\"\n",
    "    \n",
    "    def __init__(self, shape =[201]):\n",
    "        \n",
    "        self.shape = shape\n",
    "        nS = np.prod(shape) #Number of states = passengers\n",
    "        nA = 2 #Number of actions (leave/stay)\n",
    "        cost_waiting = 2\n",
    "        cost_dispatch = 100\n",
    "        capacity = 15\n",
    "        \n",
    "        \n",
    "        P = {}\n",
    "        grid = np.arange(nS).reshape(shape)\n",
    "        it = np.nditer(grid, flags =['multi_index'])\n",
    "        \n",
    "        while not it.finished:\n",
    "            s = it.iterindex\n",
    "            # P[s][a] = (prob, next_state,reward, is_done)\n",
    "            P[s] = {a : {o : [] for o in range(6)} for a in range(nA)} #o = outcome\n",
    "            is_done = lambda s: s == 0 or s == 0 #(nS - 1)\n",
    "            reward_stay = -(s * cost_waiting) \n",
    "            reward_launch = -((s * cost_waiting) + cost_dispatch)\n",
    "            for people_arriving in range(5): #fix later\n",
    "                ns_stay = s + people_arriving if s + people_arriving < 200 else 200    #if it overflows limit to 200\n",
    "                ns_launch = s + people_arriving - capacity if s > 15 else people_arriving #if they have less that 15 only arrivers\n",
    "        \n",
    "        #probdist \n",
    "    \n",
    "                P[s][0][people_arriving] = [(.2,ns_stay,reward_stay,is_done(ns_stay))]\n",
    "                P[s][1][people_arriving] = [(.2,ns_launch,reward_launch,is_done(ns_stay))]\n",
    "            it.iternext()\n",
    "    \n",
    "        # Initial state distribution is uniform\n",
    "        isd = np.ones(nS) / nS\n",
    "        \n",
    "        #Expose model for educational purposes\n",
    "        self.P = P\n",
    "        self.nS = nS\n",
    "        self.nA = nA\n",
    "       # super(Trainenv, self).__init__(nS, nA, P, isd)\n",
    "    \n",
    "    \n",
    "env = Trainenv()"
   ]
  },
  {
   "cell_type": "code",
   "execution_count": 10,
   "metadata": {},
   "outputs": [
    {
     "name": "stdout",
     "output_type": "stream",
     "text": [
      "[-522.82208467 -536.21669825 -548.90579833 -560.94916095]\n"
     ]
    }
   ],
   "source": [
    "#Enumeration function:\n",
    "def enumeration(env,discount_factor = .95,T = 100):\n",
    "    \n",
    "    def one_step_lookahead(state, V):\n",
    "        \"\"\"\n",
    "        Helper function to calculate the value for all actions in a given state\n",
    "        \n",
    "        Args:\n",
    "            state to consider(int)\n",
    "            V: Value to use as an estimator, Vector of length env.nS\n",
    "        \n",
    "        Returns:\n",
    "            A vector of length env.nA containing the expected value of each section\n",
    "        \"\"\"\n",
    "        A = np.zeros(env.nA)\n",
    "        for a in range(env.nA):\n",
    "            for o in range(5):\n",
    "                prob = env.P[state][a][o][0][0]\n",
    "                next_state = env.P[state][a][o][0][1]\n",
    "                reward = env.P[state][a][o][0][2]\n",
    "                done = env.P[state][a][o][0][3]\n",
    "                #print(prob)\n",
    "              #  print(prob * (reward + discount_factor * V[next_state]))\n",
    "                A[a] += prob * (reward + discount_factor * V[next_state]) # Enumeration function, prob is probability of changing states the env #UPDATE\n",
    "        return A\n",
    "    \n",
    "    \n",
    "    V_t = np.zeros(env.nS) # Initialize a value of all states\n",
    "    V_tplus1 = np.zeros(env.nS) # Initialize the value for all states +1\n",
    "    for t in range(T,-1,-1):\n",
    "        for s in range(env.nS): # for each state\n",
    "            A = one_step_lookahead(s, V_tplus1) # calculate the rewards for all actions given that state\n",
    "            best_action_value = np.max(A) #Maximation is done here\n",
    "            V_t[s] = best_action_value # put in the value of the best action for this state.\n",
    "        V_tplus1 = V_t.copy() \n",
    "        \n",
    "    return V_t\n",
    "\n",
    "V = enumeration(env, discount_factor=.95,T=500) #Calculate value for each state.\n",
    "print(V[1:5])"
   ]
  },
  {
   "cell_type": "markdown",
   "metadata": {},
   "source": [
    "### Q1 a"
   ]
  },
  {
   "cell_type": "code",
   "execution_count": 7,
   "metadata": {},
   "outputs": [
    {
     "data": {
      "image/png": "[encoded data removed]",
      "text/plain": [
       "<Figure size 432x288 with 1 Axes>"
      ]
     },
     "metadata": {
      "needs_background": "light"
     },
     "output_type": "display_data"
    }
   ],
   "source": [
    "import matplotlib.pyplot as plt\n",
    "plt.plot(V)\n",
    "plt.ylabel('Value')\n",
    "plt.xlabel('Passengers')\n",
    "plt.title(\"Enumeration\")\n",
    "plt.show()\n"
   ]
  },
  {
   "cell_type": "code",
   "execution_count": 8,
   "metadata": {},
   "outputs": [],
   "source": [
    "#Value iteration function:\n",
    "def value_iteration(env,theta = .0001, discount_factor = .95):\n",
    "    \n",
    "    def one_step_lookahead(state, V):\n",
    "        \"\"\"\n",
    "        Helper function to calculate the value for all actions in a given state\n",
    "        \n",
    "        Args:\n",
    "            state to consider(int)\n",
    "            V: Value to use as an estimator, Vector of length env.nS\n",
    "        \n",
    "        Returns:\n",
    "            A vector of length env.nA containing the expected value of each section\n",
    "        \"\"\"\n",
    "        A = np.zeros(env.nA)\n",
    "        for a in range(env.nA):\n",
    "            for o in range(5):\n",
    "                prob = env.P[state][a][o][0][0]\n",
    "                next_state = env.P[state][a][o][0][1]\n",
    "                reward = env.P[state][a][o][0][2]\n",
    "                done = env.P[state][a][o][0][3]\n",
    "               # print(next_state)\n",
    "              #  print(prob * (reward + discount_factor * V[next_state]))\n",
    "                A[a] += prob * (reward + discount_factor * V[next_state]) # Enumeration function, prob is probability of changing states the env #UPDATE\n",
    "        return A\n",
    "        \n",
    "\n",
    "    V = np.zeros(env.nS) # Initialize a value of all states\n",
    "    while True:\n",
    "        # Stopping condition\n",
    "        delta = 0\n",
    "        #Updata each state...\n",
    "        for s in range(env.nS):\n",
    "            # Do a one step lookahead to find the best action\n",
    "            A = one_step_lookahead(s, V)\n",
    "            best_action_value = np.max(A)\n",
    "            # Calculate delta across all states seen so far\n",
    "            delta = max(delta, np.abs(best_action_value - V[s])) # Get \n",
    "            # Update the value function\n",
    "            V[s] = best_action_value\n",
    "        #Check if we can stop\n",
    "        if delta < theta:\n",
    "            break\n",
    "    policy = np.zeros([env.nS,env.nA])\n",
    "    for s in range(env.nS):\n",
    "        # One step lookahead to find the best action for this state\n",
    "        A = one_step_lookahead(s, V)\n",
    "        best_action = np.argmax(A)\n",
    "        # Always take the best action\n",
    "        policy[s, best_action] = 1\n",
    "        \n",
    "    return policy, V\n",
    "\n",
    "policy, v = value_iteration(env, discount_factor=.95) #Calculate value for each state."
   ]
  },
  {
   "cell_type": "markdown",
   "metadata": {},
   "source": [
    "### Q1b & c"
   ]
  },
  {
   "cell_type": "code",
   "execution_count": 9,
   "metadata": {},
   "outputs": [
    {
     "data": {
      "image/png": "[encoded data removed]",
      "text/plain": [
       "<Figure size 432x288 with 1 Axes>"
      ]
     },
     "metadata": {
      "needs_background": "light"
     },
     "output_type": "display_data"
    },
    {
     "data": {
      "image/png": "[encoded data removed]",
      "text/plain": [
       "<Figure size 432x288 with 1 Axes>"
      ]
     },
     "metadata": {
      "needs_background": "light"
     },
     "output_type": "display_data"
    }
   ],
   "source": [
    "plt.plot(v)\n",
    "plt.ylabel('Value')\n",
    "plt.xlabel('Passengers')\n",
    "plt.title(\"Value iteration\")\n",
    "plt.show()\n",
    "plt.plot(policy[:,1])\n",
    "plt.ylabel('Dispatch or stay')\n",
    "plt.xlabel('Num waiting')\n",
    "plt.title(\"Ideal policy\")\n",
    "plt.show()"
   ]
  },
  {
   "cell_type": "markdown",
   "metadata": {},
   "source": [
    "## Q2\n",
    "\n",
    "#### This is impossible to actually model due to the curse of dimensionality, however I altered the equations to work in this hypothetical case"
   ]
  },
  {
   "cell_type": "code",
   "execution_count": 2,
   "metadata": {},
   "outputs": [],
   "source": [
    "import numpy as np\n",
    "import random as random"
   ]
  },
  {
   "cell_type": "markdown",
   "metadata": {},
   "source": [
    "Make all possible arrival outcomes/ people who leave the outcomes, and statespaces"
   ]
  },
  {
   "cell_type": "code",
   "execution_count": null,
   "metadata": {},
   "outputs": [],
   "source": [
    "possibleoutcomes = []\n",
    "for a in range(5):\n",
    "    for b in range(5):\n",
    "        for c in range(5):\n",
    "            for d in range(5):\n",
    "                for e in range(5):\n",
    "                    possibleoutcomes.append((a,b,c,d,e))\n",
    "addto5 = np.sum(possibleoutcomes[0:len(possibleoutcomes)],axis = 1) == 5\n",
    "valid = [i for i, x in enumerate(addto5) if x]\n",
    "validoutcomes = []\n",
    "for i in valid:\n",
    "    if possibleoutcomes[i] not in validoutcomes: \n",
    "            validoutcomes.append(possibleoutcomes[i])\n",
    "validoutcomes[0:5]"
   ]
  },
  {
   "cell_type": "code",
   "execution_count": 4,
   "metadata": {},
   "outputs": [
    {
     "data": {
      "text/plain": [
       "46371"
      ]
     },
     "execution_count": 4,
     "metadata": {},
     "output_type": "execute_result"
    }
   ],
   "source": [
    "possibleoutcomes = []\n",
    "for a in range(30):\n",
    "    for b in range(30):\n",
    "        for c in range(30):\n",
    "            for d in range(30):\n",
    "                for e in range(30):\n",
    "                    possibleoutcomes.append((a,b,c,d,e))\n",
    "addto30 = np.sum(possibleoutcomes[0:len(possibleoutcomes)],axis = 1) == 30\n",
    "\n",
    "valid = [i for i, x in enumerate(addto30) if x]\n",
    "validleavers = []\n",
    "for i in valid:\n",
    "    if possibleoutcomes[i] not in validleavers: \n",
    "            validleavers.append(possibleoutcomes[i])\n",
    "validleavers[1:5]\n",
    "                    "
   ]
  },
  {
   "cell_type": "code",
   "execution_count": null,
   "metadata": {},
   "outputs": [],
   "source": [
    "# Model all possible states\n",
    "states = []\n",
    "for a in range(100):\n",
    "    for b in range(100):\n",
    "        for c in range(100):\n",
    "            for d in range(100):\n",
    "                for e in range(100):\n",
    "                    states.append((a,b,c,d,e))\n",
    "states[1:5]"
   ]
  },
  {
   "cell_type": "code",
   "execution_count": null,
   "metadata": {},
   "outputs": [],
   "source": [
    "class Trainenv:\n",
    "    \"\"\"Environment for fancy shuttle problem\n",
    "    \"\"\"\n",
    "    \n",
    "    def __init__(self, shape =[len(states)]): # We can now have 100 of each of four passengers\n",
    "        \n",
    "        self.shape = shape\n",
    "        nS = np.prod(shape) #Number of states = passengers\n",
    "        nA = 2 #Number of actions (leave/stay)\n",
    "        cost_waiting = (1,1.5,2,2.5,3) # Different cost for each kind of passenger\n",
    "        cost_dispatch = 100\n",
    "        capacity = 30\n",
    "        prob = 1/((len(validoutcomes)*len(validleavers)) + len(validoutcomes)) #The sample of any individual outcome is that of each combination of arrivers and leavers\n",
    "        \n",
    "        P = {s : {a : {o : {r : [] for r in validleavers} for o in validoutcomes} for a in range(nA)} for s in states} # We add a level to the dictionary \n",
    "        #to account for the variance in who leaves\n",
    "        for s in states:\n",
    "            reward_stay = -(np.sum(np.multiply(s,cost_waiting)))\n",
    "            \n",
    "            reward_launch = -(np.sum(np.multiply(s,cost_waiting)) + cost_dispatch)\n",
    "            for people_arriving in validoutcomes: #fix later\n",
    "                for people_leaving in validleavers:\n",
    "                    ns_stay = np.clip(np.add(s,people_arriving),0,100)\n",
    "                    ns_launch = np.clip(np.subtract(np.add(s,people_arriving),people_leaving),0,100) #if they have less that 15 only arrivers\n",
    "        \n",
    "        #probdist\n",
    "                    P[s][0][people_arriving][people_leaving] = [(prob,tuple(ns_stay),reward_stay,is_done)]\n",
    "                    P[s][1][people_arriving][people_leaving] = [(prob,tuple(ns_launch),reward_launch,is_done)]\n",
    "                  \n",
    "    \n",
    "        # Initial state distribution is uniform\n",
    "        isd = np.ones(nS) / nS\n",
    "        \n",
    "        #Expose model for educational purposes\n",
    "        self.P = P\n",
    "        self.nS = nS\n",
    "        self.nA = nA\n",
    "       # super(Trainenv, self).__init__(nS, nA, P, isd)\n",
    "    \n",
    "    \n",
    "env = Trainenv()"
   ]
  },
  {
   "cell_type": "code",
   "execution_count": 80,
   "metadata": {},
   "outputs": [
    {
     "name": "stdout",
     "output_type": "stream",
     "text": [
      "(0, 2, 2, 1, 0)\n"
     ]
    },
    {
     "ename": "IndexError",
     "evalue": "too many indices for array",
     "output_type": "error",
     "traceback": [
      "\u001b[0;31m---------------------------------------------------------------------------\u001b[0m",
      "\u001b[0;31mIndexError\u001b[0m                                Traceback (most recent call last)",
      "\u001b[0;32m<ipython-input-80-ea5ccea3e5c5>\u001b[0m in \u001b[0;36m<module>\u001b[0;34m()\u001b[0m\n\u001b[1;32m     37\u001b[0m     \u001b[0;32mreturn\u001b[0m \u001b[0mV_t\u001b[0m\u001b[0;34m\u001b[0m\u001b[0;34m\u001b[0m\u001b[0m\n\u001b[1;32m     38\u001b[0m \u001b[0;34m\u001b[0m\u001b[0m\n\u001b[0;32m---> 39\u001b[0;31m \u001b[0mV\u001b[0m \u001b[0;34m=\u001b[0m \u001b[0menumeration\u001b[0m\u001b[0;34m(\u001b[0m\u001b[0menv\u001b[0m\u001b[0;34m,\u001b[0m \u001b[0mdiscount_factor\u001b[0m\u001b[0;34m=\u001b[0m\u001b[0;36m.95\u001b[0m\u001b[0;34m,\u001b[0m\u001b[0mT\u001b[0m\u001b[0;34m=\u001b[0m\u001b[0;36m500\u001b[0m\u001b[0;34m)\u001b[0m \u001b[0;31m#Calculate value for each state.\u001b[0m\u001b[0;34m\u001b[0m\u001b[0;34m\u001b[0m\u001b[0m\n\u001b[0m\u001b[1;32m     40\u001b[0m \u001b[0mprint\u001b[0m\u001b[0;34m(\u001b[0m\u001b[0mV\u001b[0m\u001b[0;34m)\u001b[0m\u001b[0;34m\u001b[0m\u001b[0;34m\u001b[0m\u001b[0m\n",
      "\u001b[0;32m<ipython-input-80-ea5ccea3e5c5>\u001b[0m in \u001b[0;36menumeration\u001b[0;34m(env, discount_factor, T)\u001b[0m\n\u001b[1;32m     30\u001b[0m     \u001b[0;32mfor\u001b[0m \u001b[0mt\u001b[0m \u001b[0;32min\u001b[0m \u001b[0mrange\u001b[0m\u001b[0;34m(\u001b[0m\u001b[0mT\u001b[0m\u001b[0;34m,\u001b[0m\u001b[0;34m-\u001b[0m\u001b[0;36m1\u001b[0m\u001b[0;34m,\u001b[0m\u001b[0;34m-\u001b[0m\u001b[0;36m1\u001b[0m\u001b[0;34m)\u001b[0m\u001b[0;34m:\u001b[0m\u001b[0;34m\u001b[0m\u001b[0;34m\u001b[0m\u001b[0m\n\u001b[1;32m     31\u001b[0m         \u001b[0;32mfor\u001b[0m \u001b[0ms\u001b[0m \u001b[0;32min\u001b[0m \u001b[0mrange\u001b[0m\u001b[0;34m(\u001b[0m\u001b[0menv\u001b[0m\u001b[0;34m.\u001b[0m\u001b[0mnS\u001b[0m\u001b[0;34m)\u001b[0m\u001b[0;34m:\u001b[0m \u001b[0;31m# for each state\u001b[0m\u001b[0;34m\u001b[0m\u001b[0;34m\u001b[0m\u001b[0m\n\u001b[0;32m---> 32\u001b[0;31m             \u001b[0mA\u001b[0m \u001b[0;34m=\u001b[0m \u001b[0mone_step_lookahead\u001b[0m\u001b[0;34m(\u001b[0m\u001b[0ms\u001b[0m\u001b[0;34m,\u001b[0m \u001b[0mV_tplus1\u001b[0m\u001b[0;34m)\u001b[0m \u001b[0;31m# calculate the rewards for all actions given that state\u001b[0m\u001b[0;34m\u001b[0m\u001b[0;34m\u001b[0m\u001b[0m\n\u001b[0m\u001b[1;32m     33\u001b[0m             \u001b[0mbest_action_value\u001b[0m \u001b[0;34m=\u001b[0m \u001b[0mnp\u001b[0m\u001b[0;34m.\u001b[0m\u001b[0mmax\u001b[0m\u001b[0;34m(\u001b[0m\u001b[0mA\u001b[0m\u001b[0;34m)\u001b[0m \u001b[0;31m#Maximation is done here\u001b[0m\u001b[0;34m\u001b[0m\u001b[0;34m\u001b[0m\u001b[0m\n\u001b[1;32m     34\u001b[0m             \u001b[0mV_t\u001b[0m\u001b[0;34m[\u001b[0m\u001b[0ms\u001b[0m\u001b[0;34m]\u001b[0m \u001b[0;34m=\u001b[0m \u001b[0mbest_action_value\u001b[0m \u001b[0;31m# put in the value of the best action for this state.\u001b[0m\u001b[0;34m\u001b[0m\u001b[0;34m\u001b[0m\u001b[0m\n",
      "\u001b[0;32m<ipython-input-80-ea5ccea3e5c5>\u001b[0m in \u001b[0;36mone_step_lookahead\u001b[0;34m(state, V)\u001b[0m\n\u001b[1;32m     22\u001b[0m                     \u001b[0mreward\u001b[0m \u001b[0;34m=\u001b[0m \u001b[0menv\u001b[0m\u001b[0;34m.\u001b[0m\u001b[0mP\u001b[0m\u001b[0;34m[\u001b[0m\u001b[0mstate\u001b[0m\u001b[0;34m]\u001b[0m\u001b[0;34m[\u001b[0m\u001b[0ma\u001b[0m\u001b[0;34m]\u001b[0m\u001b[0;34m[\u001b[0m\u001b[0mo\u001b[0m\u001b[0;34m]\u001b[0m\u001b[0;34m[\u001b[0m\u001b[0mr\u001b[0m\u001b[0;34m]\u001b[0m\u001b[0;34m[\u001b[0m\u001b[0;36m0\u001b[0m\u001b[0;34m]\u001b[0m\u001b[0;34m[\u001b[0m\u001b[0;36m2\u001b[0m\u001b[0;34m]\u001b[0m\u001b[0;34m\u001b[0m\u001b[0;34m\u001b[0m\u001b[0m\n\u001b[1;32m     23\u001b[0m                     \u001b[0mdone\u001b[0m \u001b[0;34m=\u001b[0m \u001b[0menv\u001b[0m\u001b[0;34m.\u001b[0m\u001b[0mP\u001b[0m\u001b[0;34m[\u001b[0m\u001b[0mstate\u001b[0m\u001b[0;34m]\u001b[0m\u001b[0;34m[\u001b[0m\u001b[0ma\u001b[0m\u001b[0;34m]\u001b[0m\u001b[0;34m[\u001b[0m\u001b[0mo\u001b[0m\u001b[0;34m]\u001b[0m\u001b[0;34m[\u001b[0m\u001b[0mr\u001b[0m\u001b[0;34m]\u001b[0m\u001b[0;34m[\u001b[0m\u001b[0;36m0\u001b[0m\u001b[0;34m]\u001b[0m\u001b[0;34m[\u001b[0m\u001b[0;36m3\u001b[0m\u001b[0;34m]\u001b[0m\u001b[0;34m\u001b[0m\u001b[0;34m\u001b[0m\u001b[0m\n\u001b[0;32m---> 24\u001b[0;31m                     \u001b[0mA\u001b[0m\u001b[0;34m[\u001b[0m\u001b[0ma\u001b[0m\u001b[0;34m]\u001b[0m \u001b[0;34m+=\u001b[0m \u001b[0mprob\u001b[0m \u001b[0;34m*\u001b[0m \u001b[0;34m(\u001b[0m\u001b[0mreward\u001b[0m \u001b[0;34m+\u001b[0m \u001b[0mdiscount_factor\u001b[0m \u001b[0;34m*\u001b[0m \u001b[0mV\u001b[0m\u001b[0;34m[\u001b[0m\u001b[0mnext_state\u001b[0m\u001b[0;34m]\u001b[0m\u001b[0;34m)\u001b[0m \u001b[0;31m# Enumeration function, prob is probability of changing states the env #UPDATE\u001b[0m\u001b[0;34m\u001b[0m\u001b[0;34m\u001b[0m\u001b[0m\n\u001b[0m\u001b[1;32m     25\u001b[0m         \u001b[0;32mreturn\u001b[0m \u001b[0mA\u001b[0m\u001b[0;34m\u001b[0m\u001b[0;34m\u001b[0m\u001b[0m\n\u001b[1;32m     26\u001b[0m \u001b[0;34m\u001b[0m\u001b[0m\n",
      "\u001b[0;31mIndexError\u001b[0m: too many indices for array"
     ]
    }
   ],
   "source": [
    "#Enumeration function: Small changes here to account for the new structure\n",
    "def enumeration(env,discount_factor = .95,T = 100):\n",
    "    \n",
    "    def one_step_lookahead(state, V):\n",
    "        \"\"\"\n",
    "        Helper function to calculate the value for all actions in a given state\n",
    "        \n",
    "        Args:\n",
    "            state to consider(int)\n",
    "            V: Value to use as an estimator, Vector of length env.nS\n",
    "        \n",
    "        Returns:\n",
    "            A vector of length env.nA containing the expected value of each section\n",
    "        \"\"\"\n",
    "        A = np.zeros(env.nA)\n",
    "        for a in range(env.nA):\n",
    "            for o in validoutcomes:\n",
    "                for r in validleavers:\n",
    "                    prob = env.P[state][a][o][r][0][0]\n",
    "                    next_state = env.P[state][a][o][r][0][1]\n",
    "                    reward = env.P[state][a][o][r][0][2]\n",
    "                    done = env.P[state][a][o][r][0][3]\n",
    "                    A[a] += prob * (reward + discount_factor * V[next_state]) # Enumeration function, prob is probability of changing states the env #UPDATE\n",
    "        return A\n",
    "    \n",
    "    \n",
    "    V_t = {v : 0 for v in states) # Initialize a value of all states\n",
    "    V_tplus1 = {v1 : 0 for v1 in states) # Initialize a value of all states # Initialize the value for all states +1\n",
    "    for t in range(T,-1,-1):\n",
    "        for s in states: # for each state\n",
    "            A = one_step_lookahead(s, V_tplus1) # calculate the rewards for all actions given that state\n",
    "            best_action_value = np.max(A) #Maximation is done here\n",
    "            V_t[s] = best_action_value # put in the value of the best action for this state.\n",
    "        V_tplus1 = V_t.copy() \n",
    "        \n",
    "    return V_t\n",
    "\n",
    "V = enumeration(env, discount_factor=.95,T=500) #Calculate value for each state.\n",
    "print(V)"
   ]
  },
  {
   "cell_type": "code",
   "execution_count": null,
   "metadata": {},
   "outputs": [],
   "source": [
    "#Value iteration function:\n",
    "def value_iteration(env,theta = .0001, discount_factor = .95):\n",
    "    \n",
    "    def one_step_lookahead(state, V):\n",
    "        \"\"\"\n",
    "        Helper function to calculate the value for all actions in a given state\n",
    "        \n",
    "        Args:\n",
    "            state to consider(int)\n",
    "            V: Value to use as an estimator, Vector of length env.nS\n",
    "        \n",
    "        Returns:\n",
    "            A vector of length env.nA containing the expected value of each section\n",
    "        \"\"\"\n",
    "        A = np.zeros(env.nA)\n",
    "        for a in range(env.nA):\n",
    "            for o in validoutcomes:\n",
    "                for r in validleavers:\n",
    "                    prob = env.P[state][a][o][r][0][0]\n",
    "                    next_state = env.P[state][a][o][r][0][1]\n",
    "                    reward = env.P[state][a][o][r][0][2]\n",
    "                    done = env.P[state][a][o][r][0][3]\n",
    "                    A[a] += prob * (reward + discount_factor * V[next_state]) # Enumeration function, prob is probability of changing states the env #UPDATE\n",
    "        return A\n",
    "    \n",
    "        \n",
    "\n",
    "    V = {v : 0 for v in states) # Initialize a value of all states\n",
    "    while True:\n",
    "        # Stopping condition\n",
    "        delta = 0\n",
    "        #Updata each state...\n",
    "        for s in states:\n",
    "            # Do a one step lookahead to find the best action\n",
    "            A = one_step_lookahead(s, V)\n",
    "            best_action_value = np.max(A)\n",
    "            # Calculate delta across all states seen so far\n",
    "            delta = max(delta, np.abs(best_action_value - V[s])) # Get \n",
    "            # Update the value function\n",
    "            V[s] = best_action_value\n",
    "        #Check if we can stop\n",
    "        if delta < theta:\n",
    "            break\n",
    "    policy = np.zeros([env.nS,env.nA])\n",
    "    for s in states):\n",
    "        # One step lookahead to find the best action for this state\n",
    "        A = one_step_lookahead(s, V)\n",
    "        best_action = np.argmax(A)\n",
    "        # Always take the best action\n",
    "        policy[s, best_action] = 1\n",
    "        \n",
    "    return policy, V\n",
    "\n",
    "policy, v = value_iteration(env, discount_factor=.95) #Calculate value for each state."
   ]
  }
 ],
 "metadata": {
  "kernelspec": {
   "display_name": "Anaconda3 full",
   "language": "python",
   "name": "anaconda3"
  },
  "language_info": {
   "codemirror_mode": {
    "name": "ipython",
    "version": 3
   },
   "file_extension": ".py",
   "mimetype": "text/x-python",
   "name": "python",
   "nbconvert_exporter": "python",
   "pygments_lexer": "ipython3",
   "version": "3.6.10"
  }
 },
 "nbformat": 4,
 "nbformat_minor": 4
}
